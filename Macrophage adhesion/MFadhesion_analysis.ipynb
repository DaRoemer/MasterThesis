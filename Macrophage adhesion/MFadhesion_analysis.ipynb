{
 "cells": [
  {
   "cell_type": "markdown",
   "metadata": {},
   "source": [
    "# Macrophage adhesion anlysis\n",
    "by Felix Romer\n",
    "\n",
    "last changed: 26.4.2025\n",
    "\n",
    "## Package import"
   ]
  },
  {
   "cell_type": "code",
   "execution_count": 1,
   "metadata": {},
   "outputs": [],
   "source": [
    "import pandas as pd\n",
    "import numpy as np\n",
    "import matplotlib.pyplot as plt\n",
    "import seaborn as sns\n",
    "#import statsmodels.formula.api as smf"
   ]
  },
  {
   "cell_type": "markdown",
   "metadata": {},
   "source": [
    "# Load and Prepare Data\n",
    "This section loads the dataset and prepares it for analysis by defining base colors and calculating relative metrics."
   ]
  },
  {
   "cell_type": "code",
   "execution_count": null,
   "metadata": {},
   "outputs": [],
   "source": [
    "load_path = '/path/to/main/directory'  # Update this to your actual path\n",
    "df = pd.read_csv(f'{load_path}/AdhesionData.csv') \n",
    "\n",
    "# Base colors for conditions\n",
    "base_colors = {\n",
    "    'Control': '#7c8083', \n",
    "    'Infected': '#c53c37',  \n",
    "    'Uninfected': '#518fba' \n",
    "}"
   ]
  },
  {
   "cell_type": "markdown",
   "metadata": {},
   "source": [
    "# Calculate Relative Metrics\n",
    "This section calculates the mean and relative macrophage (MF) counts for further analysis."
   ]
  },
  {
   "cell_type": "code",
   "execution_count": null,
   "metadata": {},
   "outputs": [],
   "source": [
    "# Calculate the mean MF count for uninfected samples for each Chip group\n",
    "mean_uninfected = df[df['Infection Status'] == 'Uninfected'].groupby('Chip')['MF count'].mean()\n",
    "\n",
    "# Calculate the relative MF count\n",
    "df['Relative MF count'] = df.apply(\n",
    "    lambda row: row['MF count'] / mean_uninfected[row['Chip']] if row['Chip'] in mean_uninfected else None, axis=1\n",
    ")\n",
    "\n",
    "df_FR = df[df['Chip'] != 'Marie']\n",
    "# grop for chip and channel and get the mean\n",
    "# Group by Chip and Channel and get the mean for both Relative MF count and MF count\n",
    "df_FR_mean = df_FR.groupby(['Chip', 'Channel', 'Infection Status']).agg({'Relative MF count': 'mean', 'MF count': 'mean'}).reset_index()\n",
    "df_FR_mean"
   ]
  },
  {
   "cell_type": "markdown",
   "metadata": {},
   "source": [
    "## Visalize realtive adhesion\n",
    "This section saves the generated visualizations as SVG files for further use."
   ]
  },
  {
   "cell_type": "code",
   "execution_count": null,
   "metadata": {},
   "outputs": [],
   "source": [
    "# Plot relative MF count without hue for boxplot\n",
    "fig = plt.figure(figsize=(6, 8))\n",
    "sns.boxplot(x='Infection Status', y='Relative MF count', data=df_FR_mean, palette=base_colors,  width=0.3, whis=[0, 100])\n",
    "sns.swarmplot(x='Infection Status', y='Relative MF count', data=df_FR_mean, size=5, hue='Chip', dodge=False, palette=gray_colors, edgecolor='black', linewidth=1)\n",
    "\n",
    "# save as svg\n",
    "plt.savefig(f'{load_path}/Relative_MF_count.svg', format='svg')\n"
   ]
  },
  {
   "cell_type": "markdown",
   "metadata": {},
   "source": [
    "# Statistical Analysis: Relative MF Count\n",
    "This section performs t-tests and fits a mixed effects model for relative MF counts."
   ]
  },
  {
   "cell_type": "code",
   "execution_count": 16,
   "metadata": {},
   "outputs": [
    {
     "name": "stdout",
     "output_type": "stream",
     "text": [
      "t-statistic: 3.7129467904992777\n",
      "p-value: 0.002604960319757532\n",
      "Reject the null hypothesis\n",
      "---------------------------------\n",
      "Chip: 16\n",
      "t-statistic: 3.4780417182012626\n",
      "p-value: 0.040112054463393276\n",
      "Reject the null hypothesis\n",
      "---------------------------------\n",
      "Chip: 19\n",
      "t-statistic: 3.436969682882612\n",
      "p-value: 0.00886329980139118\n",
      "Reject the null hypothesis\n"
     ]
    }
   ],
   "source": [
    "from scipy.stats import ttest_ind\n",
    "\n",
    "# Separate the data into infected and uninfected groups\n",
    "infected = df_FR_mean[df_FR_mean['Infection Status'] == 'Infected']['Relative MF count']\n",
    "uninfected = df_FR_mean[df_FR_mean['Infection Status'] == 'Uninfected']['Relative MF count']\n",
    "\n",
    "# Perform the t-test\n",
    "t_stat, p_value = ttest_ind(infected, uninfected)\n",
    "print('t-statistic:', t_stat)\n",
    "print('p-value:', p_value)\n",
    "\n",
    "# Determine if the null hypothesis can be rejected\n",
    "if p_value < 0.05:\n",
    "    print('Reject the null hypothesis')\n",
    "else:\n",
    "    print('Fail to reject the null hypothesis')\n",
    "# Perform the t-test for each chip\n",
    "for chip in df_FR_mean['Chip'].unique():\n",
    "    infected_chip = df_FR_mean[(df_FR_mean['Infection Status'] == 'Infected') & (df_FR_mean['Chip'] == chip)]['Relative MF count']\n",
    "    uninfected_chip = df_FR_mean[(df_FR_mean['Infection Status'] == 'Uninfected') & (df_FR_mean['Chip'] == chip)]['Relative MF count']\n",
    "    \n",
    "    if len(infected_chip) > 0 and len(uninfected_chip) > 0:\n",
    "        t_stat_chip, p_value_chip = ttest_ind(infected_chip, uninfected_chip)\n",
    "        print('---------------------------------')\n",
    "        print(f'Chip: {chip}')\n",
    "        print('t-statistic:', t_stat_chip)\n",
    "        print('p-value:', p_value_chip)\n",
    "        \n",
    "        if p_value_chip < 0.05:\n",
    "            print('Reject the null hypothesis')\n",
    "        else:\n",
    "            print('Fail to reject the null hypothesis')\n"
   ]
  },
  {
   "cell_type": "code",
   "execution_count": 10,
   "metadata": {},
   "outputs": [
    {
     "name": "stdout",
     "output_type": "stream",
     "text": [
      "                  Mixed Linear Model Regression Results\n",
      "=========================================================================\n",
      "Model:                MixedLM    Dependent Variable:    Relative_MF_count\n",
      "No. Observations:     15         Method:                REML             \n",
      "No. Groups:           2          Scale:                 0.0613           \n",
      "Min. group size:      5          Log-Likelihood:        -2.5829          \n",
      "Max. group size:      10         Converged:             Yes              \n",
      "Mean group size:      7.5                                                \n",
      "-------------------------------------------------------------------------\n",
      "                               Coef.  Std.Err.   z    P>|z| [0.025 0.975]\n",
      "-------------------------------------------------------------------------\n",
      "Intercept                       1.476    0.107 13.803 0.000  1.267  1.686\n",
      "Infection_Status[T.Uninfected] -0.495    0.129 -3.835 0.000 -0.748 -0.242\n",
      "Group Var                       0.007    0.094                           \n",
      "=========================================================================\n",
      "\n",
      "Intercept                         2.445856e-43\n",
      "Infection_Status[T.Uninfected]    1.255503e-04\n",
      "Group Var                         7.783697e-01\n",
      "dtype: float64\n"
     ]
    },
    {
     "name": "stderr",
     "output_type": "stream",
     "text": [
      "/home/felix/miniconda3/envs/statenv/lib/python3.12/site-packages/statsmodels/regression/mixed_linear_model.py:2237: ConvergenceWarning: The MLE may be on the boundary of the parameter space.\n",
      "  warnings.warn(msg, ConvergenceWarning)\n"
     ]
    }
   ],
   "source": [
    "# rename columns ' ' to '_'\n",
    "df_FR_mean.columns = [col.replace(' ', '_') for col in df_FR_mean.columns]\n",
    "# Mixed Effects Model: MF_count ~ Infection_Status + (1|Chip)\n",
    "model = smf.mixedlm(\"Relative_MF_count ~ Infection_Status\", data=df_FR_mean, groups=df_FR_mean[\"Chip\"], re_formula=\"1\")\n",
    "result = model.fit()\n",
    "\n",
    "# Reverse column names to original\n",
    "df_FR_mean.columns = [col.replace('_', ' ') for col in df_FR_mean.columns]\n",
    "# Ergebnisse ausgeben\n",
    "print(result.summary())\n",
    "# print p value\n",
    "print(result.pvalues)"
   ]
  }
 ],
 "metadata": {
  "kernelspec": {
   "display_name": "analysis_env",
   "language": "python",
   "name": "python3"
  },
  "language_info": {
   "codemirror_mode": {
    "name": "ipython",
    "version": 3
   },
   "file_extension": ".py",
   "mimetype": "text/x-python",
   "name": "python",
   "nbconvert_exporter": "python",
   "pygments_lexer": "ipython3",
   "version": "3.9.20"
  }
 },
 "nbformat": 4,
 "nbformat_minor": 2
}
